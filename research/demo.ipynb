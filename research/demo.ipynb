{
 "cells": [
  {
   "cell_type": "code",
   "execution_count": 4,
   "metadata": {},
   "outputs": [],
   "source": [
    "import torch \n",
    "import os \n",
    "import numpy as np\n",
    "import torch.nn as nn \n",
    "import torch.nn.functional as F\n",
    "from torch.optim.lr_scheduler import StepLR\n",
    "from torchvision import datasets,transforms\n",
    "import mlflow \n",
    "import mlflow.pytorch\n",
    "\n"
   ]
  },
  {
   "cell_type": "code",
   "execution_count": 5,
   "metadata": {},
   "outputs": [],
   "source": [
    "class Config:\n",
    "    EPOCHS=10\n",
    "    BATCH_SIZE=32 \n",
    "    LR=0.01 \n",
    "    DEVICE=\"cuda\" if torch.cuda.is_available() else \"cpu\"\n",
    "    GAMMA=0.7 \n",
    "    SEED=42\n",
    "    LOG_INTERVAL=10\n",
    "    TEST_BATCH_SIZE=1000\n",
    "    DRY_RUN=True\n"
   ]
  },
  {
   "cell_type": "code",
   "execution_count": 6,
   "metadata": {},
   "outputs": [],
   "source": [
    "config=Config()"
   ]
  },
  {
   "cell_type": "code",
   "execution_count": 7,
   "metadata": {},
   "outputs": [],
   "source": [
    "from torch import nn\n",
    "class ConvNet(nn.Module):\n",
    "    def __init__(self):\n",
    "        super(ConvNet,self).__init__()\n",
    "        self.conv1=nn.Conv2d(in_channels=1,out_channels=32,kernel_size=3,stride=1)\n",
    "        self.conv2=nn.Conv2d(in_channels=32,out_channels=64,kernel_size=3,stride=1)\n",
    "        self.dropout1=nn.Dropout(0.25)\n",
    "        self.dropout2=nn.Dropout(0.5)\n",
    "        self.fc1=nn.Linear(in_features=9216,out_features=128)\n",
    "        self.fc2=nn.Linear(in_features=128,out_features=10)\n",
    "\n",
    "    def forward(self,x):\n",
    "        x=self.conv1(x)\n",
    "        x=F.relu(x)\n",
    "        x=self.conv2(x)\n",
    "        x=F.relu(x)\n",
    "        x=F.max_pool2d(x,2)\n",
    "        x=self.dropout1(x)\n",
    "        x=torch.flatten(x,1)\n",
    "        x=self.fc1(x)\n",
    "        x=F.relu(x)\n",
    "        x=self.dropout2(x)\n",
    "        x=self.fc2(x)\n",
    "\n",
    "        output=F.log_softmax(x,dim=1)\n",
    "        return output"
   ]
  },
  {
   "cell_type": "code",
   "execution_count": 27,
   "metadata": {},
   "outputs": [],
   "source": [
    "def train(config,model,device,train_dataloader,optimizer,epoch):\n",
    "    model.train()\n",
    "    for batch_idx,(data,target) in enumerate(train_dataloader):\n",
    "        data,target=data.to(device),target.to(device)\n",
    "        optimizer.zero_grad()\n",
    "        pred=model(data)\n",
    "        loss=F.cross_entropy(pred,target)\n",
    "        loss.backward()\n",
    "        optimizer.step()\n",
    "        if batch_idx % config.LOG_INTERVAL==0:\n",
    "            print(f\"train epoch: {epoch} [{batch_idx * len(data)}/{len(train_dataloader)} ({100.0*batch_idx/len(train_dataloader):.0f}]\\t Loss: {loss.item():.6f}\")\n",
    "\n",
    "            if config.DRY_RUN:\n",
    "                break"
   ]
  },
  {
   "cell_type": "code",
   "execution_count": 9,
   "metadata": {},
   "outputs": [],
   "source": [
    "def test(config,model,device,test_dataloader):\n",
    "    pass"
   ]
  },
  {
   "cell_type": "code",
   "execution_count": 10,
   "metadata": {},
   "outputs": [
    {
     "data": {
      "text/plain": [
       "<torch._C.Generator at 0x7faff5508df0>"
      ]
     },
     "execution_count": 10,
     "metadata": {},
     "output_type": "execute_result"
    }
   ],
   "source": [
    "torch.manual_seed(config.SEED)"
   ]
  },
  {
   "cell_type": "code",
   "execution_count": 11,
   "metadata": {},
   "outputs": [],
   "source": [
    "train_kwargs={\"batch_size\":config.BATCH_SIZE}\n",
    "test_kwargs={\"batch_size\":config.TEST_BATCH_SIZE}"
   ]
  },
  {
   "cell_type": "code",
   "execution_count": 12,
   "metadata": {},
   "outputs": [],
   "source": [
    "if config.DEVICE==\"cuda\":\n",
    "    cuda_kwargs={\"num_workers\":1,\"pin_memory\":True,\"suffle\":True}\n",
    "    train_kwargs.update(cuda_kwargs)\n",
    "    test_kwargs.update(cuda_kwargs)"
   ]
  },
  {
   "cell_type": "code",
   "execution_count": 13,
   "metadata": {},
   "outputs": [],
   "source": [
    "transforms=transforms.Compose([\n",
    "    transforms.ToTensor() \n",
    "])"
   ]
  },
  {
   "cell_type": "code",
   "execution_count": 23,
   "metadata": {},
   "outputs": [],
   "source": [
    "train=datasets.MNIST(\"../data\",train=True,download=True,transform=transforms)\n",
    "test=datasets.MNIST(\"../data\",transform=transforms)"
   ]
  },
  {
   "cell_type": "code",
   "execution_count": 24,
   "metadata": {},
   "outputs": [],
   "source": [
    "train_loader=torch.utils.data.DataLoader(train,**train_kwargs)\n",
    "test_loader=torch.utils.data.DataLoader(test,**test_kwargs)"
   ]
  },
  {
   "cell_type": "code",
   "execution_count": 25,
   "metadata": {},
   "outputs": [
    {
     "data": {
      "text/plain": [
       "(torch.Size([32, 1, 28, 28]), torch.Size([32]))"
      ]
     },
     "execution_count": 25,
     "metadata": {},
     "output_type": "execute_result"
    }
   ],
   "source": [
    "image_batch,label_batch=next(iter(train_loader))\n",
    "image_batch.shape,label_batch.shape"
   ]
  },
  {
   "cell_type": "code",
   "execution_count": 26,
   "metadata": {},
   "outputs": [],
   "source": [
    "model=ConvNet().to(config.DEVICE)\n",
    "optimizer=torch.optim.Adam(model.parameters(),lr=config.LR)\n",
    "schedular=StepLR(optimizer,step_size=1,gamma=config.GAMMA)"
   ]
  },
  {
   "cell_type": "code",
   "execution_count": 28,
   "metadata": {},
   "outputs": [
    {
     "name": "stdout",
     "output_type": "stream",
     "text": [
      "train epoch: 1 [0/1875 (0]\t Loss: 2.309456\n",
      "train epoch: 2 [0/1875 (0]\t Loss: 9.522303\n",
      "train epoch: 3 [0/1875 (0]\t Loss: 5.975313\n",
      "train epoch: 4 [0/1875 (0]\t Loss: 2.737253\n",
      "train epoch: 5 [0/1875 (0]\t Loss: 2.340699\n",
      "train epoch: 6 [0/1875 (0]\t Loss: 2.279648\n",
      "train epoch: 7 [0/1875 (0]\t Loss: 2.300728\n",
      "train epoch: 8 [0/1875 (0]\t Loss: 2.298287\n",
      "train epoch: 9 [0/1875 (0]\t Loss: 2.303431\n",
      "train epoch: 10 [0/1875 (0]\t Loss: 2.301057\n"
     ]
    }
   ],
   "source": [
    "#training loop\n",
    "for epoch in range(1,config.EPOCHS+1):\n",
    "    train(config,model,config.DEVICE,train_loader,optimizer,epoch)\n",
    "    schedular.step()"
   ]
  },
  {
   "cell_type": "code",
   "execution_count": 20,
   "metadata": {},
   "outputs": [
    {
     "data": {
      "text/plain": [
       "60000"
      ]
     },
     "execution_count": 20,
     "metadata": {},
     "output_type": "execute_result"
    }
   ],
   "source": [
    "len(train_loader.dataset)"
   ]
  },
  {
   "cell_type": "code",
   "execution_count": 34,
   "metadata": {},
   "outputs": [
    {
     "name": "stdout",
     "output_type": "stream",
     "text": [
      "actual:5,predicted:5\n"
     ]
    }
   ],
   "source": [
    "with mlflow.start_run() as run:\n",
    "    mlflow.pytorch.log_model(model,\"model\")\n",
    "    model_path=mlflow.get_artifact_uri(\"model\")\n",
    "    loaded_torch_model=mlflow.pytorch.load_model(model_path)\n",
    "    model.eval()\n",
    "    with torch.inference_mode():\n",
    "        test_datapoints,test_target=next(iter(test_loader))\n",
    "        pred=model(test_datapoints[0].unsqueeze(0).to(config.DEVICE))\n",
    "        actual=test_target[0].item()\n",
    "        predicted=torch.argmax(pred).item()\n",
    "        print(f\"actual:{actual},predicted:{predicted}\")"
   ]
  },
  {
   "cell_type": "code",
   "execution_count": null,
   "metadata": {},
   "outputs": [],
   "source": []
  }
 ],
 "metadata": {
  "kernelspec": {
   "display_name": "Python 3",
   "language": "python",
   "name": "python3"
  },
  "language_info": {
   "codemirror_mode": {
    "name": "ipython",
    "version": 3
   },
   "file_extension": ".py",
   "mimetype": "text/x-python",
   "name": "python",
   "nbconvert_exporter": "python",
   "pygments_lexer": "ipython3",
   "version": "3.7.16"
  },
  "orig_nbformat": 4
 },
 "nbformat": 4,
 "nbformat_minor": 2
}
